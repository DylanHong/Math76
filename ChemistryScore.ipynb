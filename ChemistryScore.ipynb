{
 "cells": [
  {
   "cell_type": "code",
   "execution_count": 73,
   "metadata": {},
   "outputs": [],
   "source": [
    "from nba_api.stats.static import teams\n",
    "from nba_api.stats.endpoints import leaguedashlineups\n",
    "from nba_api.stats.endpoints import leaguedashplayerstats\n",
    "from nba_api.stats.endpoints import teamdashlineups\n",
    "import statsmodels.api as sm\n",
    "import pandas as pd\n",
    "import numpy as np\n",
    "import time"
   ]
  },
  {
   "cell_type": "code",
   "execution_count": 74,
   "metadata": {},
   "outputs": [],
   "source": [
    "def LineupData(season,per):\n",
    "    tempdf1 = leaguedashlineups.LeagueDashLineups(measure_type_detailed_defense = 'Base', \n",
    "                                                 season = season, \n",
    "                                                 per_mode_detailed = per).get_data_frames()[0]\n",
    "    tempdf2 = leaguedashlineups.LeagueDashLineups(measure_type_detailed_defense = 'Advanced', \n",
    "                                                 season = season, \n",
    "                                                 per_mode_detailed = per).get_data_frames()[0]\n",
    "    tempdf = pd.merge(tempdf1,tempdf2[['GROUP_ID','PIE']].copy(), on='GROUP_ID', how='outer')\n",
    "    return(tempdf)"
   ]
  },
  {
   "cell_type": "code",
   "execution_count": 75,
   "metadata": {},
   "outputs": [],
   "source": [
    "# def LineupData1(teamid,season,per):\n",
    "#     tempdf1 = teamdashlineups.TeamDashLineups(teamid,\n",
    "#                                               measure_type_detailed_defense = 'Base', \n",
    "#                                                  season = season, \n",
    "#                                                  per_mode_detailed = per).get_data_frames()[0]\n",
    "#     tempdf2 = teamdashlineups.TeamDashLineups(teamid,\n",
    "#                                               measure_type_detailed_defense = 'Advanced', \n",
    "#                                                  season = season, \n",
    "#                                                  per_mode_detailed = per).get_data_frames()[0]\n",
    "#     tempdf = pd.merge(tempdf1,tempdf2[['GROUP_ID','PIE']].copy(), on='GROUP_ID', how='outer')\n",
    "#     return(tempdf)"
   ]
  },
  {
   "cell_type": "code",
   "execution_count": 76,
   "metadata": {},
   "outputs": [],
   "source": [
    "# nba_teams = teams.get_teams()\n",
    "\n",
    "# # Select the dictionary for the Pacers, which contains their team ID\n",
    "# # lakers = [team for team in nba_teams if team['abbreviation'] == 'LAL'][0]\n",
    "# # lakers_id = lakers['id']\n",
    "# # print(f'lakers_id: {lakers_id}')\n",
    "# season = '2017-18'\n",
    "# per = 'Per100Possessions'\n",
    "\n",
    "# tempdf1 = teamdashlineups.TeamDashLineups(1610612737,\n",
    "#                                               measure_type_detailed_defense = 'Base', \n",
    "#                                                  season = season, \n",
    "#                                                  per_mode_detailed = per).get_data_frames()[0]\n",
    "# print(tempdf1.head())\n",
    "# tempdf2 = teamdashlineups.TeamDashLineups(1610612737,\n",
    "#                                               measure_type_detailed_defense = 'Advanced', \n",
    "#                                                  season = season, \n",
    "#                                                  per_mode_detailed = per).get_data_frames()[0]\n",
    "# tempdf = pd.merge(tempdf1,tempdf2[['GROUP_ID','PIE']].copy(), on='GROUP_ID', how='outer')\n",
    "\n",
    "# for team in nba_teams[1:]:\n",
    "#     teamid = team['id']\n",
    "#     teamdf = LineupData1(teamid,'2017-18','Per100Possessions')\n",
    "#     tempdf = pd.append(tempdf,teamdf.copy(), on='GROUP_ID', how='outer')\n",
    "#     time.sleep(5)\n",
    "\n",
    "# #Combine dataframes for single game\n",
    "# # df = pd.DataFrame()\n",
    "# # for date in gamedates[:5]:\n",
    "# #     print(date)\n",
    "    \n",
    "# #     tempdf = teamdashlineups.TeamDashLineups(\n",
    "# #         lakers_id,date_from_nullable = date, date_to_nullable = date).get_data_frames()[1]\n",
    "# #     tempdf1 = tempdf[]\n",
    "# #     print(len(tempdf))\n",
    "# #     df = df.append(tempdf)\n",
    "# #     time.sleep(2)\n",
    "    \n",
    "# # df.head(20)\n",
    "\n",
    "# # lakersdf = teamdashlineups.TeamDashLineups(lakers_id, per_mode_detailed = 'Per100Possessions').get_data_frames()[1]\n",
    "# # lakersdf.head()\n",
    "# # df1 = lakersdf.iloc[:,0:29]\n",
    "# # df1 = df1.sort_values('PLUS_MINUS', ascending = False)\n",
    "# # print(len(df1))\n",
    "# # df1.head(20)"
   ]
  },
  {
   "cell_type": "code",
   "execution_count": 77,
   "metadata": {},
   "outputs": [],
   "source": [
    "def PlayerData(season,per):\n",
    "    tempdf1 = leaguedashplayerstats.LeagueDashPlayerStats(measure_type_detailed_defense = 'Base', \n",
    "                                                 season = season, \n",
    "                                                 per_mode_detailed = per).get_data_frames()[0]\n",
    "    return(tempdf1)"
   ]
  },
  {
   "cell_type": "code",
   "execution_count": 92,
   "metadata": {},
   "outputs": [],
   "source": [
    "dfLineup18 = LineupData('2017-18','Per100Possessions')\n",
    "dfPlayer18 = PlayerData('2017-18','Per100Possessions')\n",
    "\n",
    "time.sleep(2)\n",
    "\n",
    "dfLineup17 = LineupData('2016-17','Per100Possessions')\n",
    "dfPlayer17 = PlayerData('2016-17','Per100Possessions')\n",
    "\n",
    "time.sleep(2)\n",
    "\n",
    "dfLineup16 = LineupData('2015-16','Per100Possessions')\n",
    "dfPlayer16 = PlayerData('2015-16','Per100Possessions')\n",
    "\n",
    "dfLineup = dfLineup18.append(dfLineup17, ignore_index=True)\n",
    "dfLineup = dfLineup.append(dfLineup16, ignore_index=True)\n",
    "\n",
    "dfPlayer = dfPlayer18.append(dfPlayer17, ignore_index=True)\n",
    "dfPlayer = dfPlayer.append(dfPlayer16, ignore_index=True)\n",
    "\n",
    "#dfLineup.head()"
   ]
  },
  {
   "cell_type": "code",
   "execution_count": 93,
   "metadata": {},
   "outputs": [
    {
     "name": "stdout",
     "output_type": "stream",
     "text": [
      "750\n",
      "1502\n"
     ]
    }
   ],
   "source": [
    "print(len(dfLineup))\n",
    "print(len(dfPlayer))"
   ]
  },
  {
   "cell_type": "code",
   "execution_count": 94,
   "metadata": {},
   "outputs": [],
   "source": [
    "for index, row in dfLineup.iterrows():\n",
    "    playerids = row['GROUP_ID'].split(\"-\")[1:-1]\n",
    "    teamscore = 0\n",
    "    for player in playerids:\n",
    "        playerstats = dfPlayer.loc[dfPlayer['PLAYER_ID'] == int(player)]\n",
    "        playerscore = playerstats.iloc[0]['AST']\n",
    "        teamscore = teamscore + playerscore\n",
    "    dfLineup.at[index,'SUM_AST'] = teamscore     \n",
    "    \n",
    "dfLineup['AST_NET'] = dfLineup['AST'] - dfLineup['SUM_AST']"
   ]
  },
  {
   "cell_type": "code",
   "execution_count": 95,
   "metadata": {},
   "outputs": [],
   "source": [
    "for index, row in dfLineup.iterrows():\n",
    "    playerids = row['GROUP_ID'].split(\"-\")[1:-1]\n",
    "    teamscore = 0\n",
    "    for player in playerids:\n",
    "        playerstats = dfPlayer.loc[dfPlayer['PLAYER_ID'] == int(player)]\n",
    "        playerscore = playerstats.iloc[0]['FG_PCT']\n",
    "        teamscore = teamscore + playerscore\n",
    "    dfLineup.at[index,'SUM_FG_PCT'] = teamscore     \n",
    "    \n",
    "dfLineup['FG_PCT_NET'] = dfLineup['FG_PCT'] - dfLineup['SUM_FG_PCT']"
   ]
  },
  {
   "cell_type": "code",
   "execution_count": 96,
   "metadata": {},
   "outputs": [],
   "source": [
    "for index, row in dfLineup.iterrows():\n",
    "    playerids = row['GROUP_ID'].split(\"-\")[1:-1]\n",
    "    teamscore = 0\n",
    "    for player in playerids:\n",
    "        playerstats = dfPlayer.loc[dfPlayer['PLAYER_ID'] == int(player)]\n",
    "        playerscore = playerstats.iloc[0]['FG3_PCT']\n",
    "        teamscore = teamscore + playerscore\n",
    "    dfLineup.at[index,'SUM_FG3_PCT'] = teamscore     \n",
    "    \n",
    "dfLineup['FG3_PCT_NET'] = dfLineup['FG3_PCT'] - dfLineup['SUM_FG3_PCT']"
   ]
  },
  {
   "cell_type": "code",
   "execution_count": 97,
   "metadata": {},
   "outputs": [],
   "source": [
    "for index, row in dfLineup.iterrows():\n",
    "    playerids = row['GROUP_ID'].split(\"-\")[1:-1]\n",
    "    teamscore = 0\n",
    "    for player in playerids:\n",
    "        playerstats = dfPlayer.loc[dfPlayer['PLAYER_ID'] == int(player)]\n",
    "        playerscore = playerstats.iloc[0]['REB']\n",
    "        teamscore = teamscore + playerscore\n",
    "    dfLineup.at[index,'SUM_REB'] = teamscore     \n",
    "    \n",
    "dfLineup['REB_NET'] = dfLineup['REB'] - dfLineup['SUM_REB']"
   ]
  },
  {
   "cell_type": "code",
   "execution_count": 98,
   "metadata": {},
   "outputs": [],
   "source": [
    "for index, row in dfLineup.iterrows():\n",
    "    playerids = row['GROUP_ID'].split(\"-\")[1:-1]\n",
    "    teamscore = 0\n",
    "    for player in playerids:\n",
    "        playerstats = dfPlayer.loc[dfPlayer['PLAYER_ID'] == int(player)]\n",
    "        playerscore = playerstats.iloc[0]['TOV']\n",
    "        teamscore = teamscore + playerscore\n",
    "    dfLineup.at[index,'SUM_TOV'] = teamscore     \n",
    "    \n",
    "dfLineup['TOV_NET'] = dfLineup['TOV'] - dfLineup['SUM_TOV']"
   ]
  },
  {
   "cell_type": "code",
   "execution_count": 99,
   "metadata": {},
   "outputs": [],
   "source": [
    "for index, row in dfLineup.iterrows():\n",
    "    playerids = row['GROUP_ID'].split(\"-\")[1:-1]\n",
    "    teamscore = 0\n",
    "    for player in playerids:\n",
    "        playerstats = dfPlayer.loc[dfPlayer['PLAYER_ID'] == int(player)]\n",
    "        playerscore = playerstats.iloc[0]['STL']\n",
    "        teamscore = teamscore + playerscore\n",
    "    dfLineup.at[index,'SUM_STL'] = teamscore     \n",
    "    \n",
    "dfLineup['STL_NET'] = dfLineup['STL'] - dfLineup['SUM_STL']"
   ]
  },
  {
   "cell_type": "code",
   "execution_count": 100,
   "metadata": {},
   "outputs": [],
   "source": [
    "for index, row in dfLineup.iterrows():\n",
    "    playerids = row['GROUP_ID'].split(\"-\")[1:-1]\n",
    "    teamscore = 0\n",
    "    for player in playerids:\n",
    "        playerstats = dfPlayer.loc[dfPlayer['PLAYER_ID'] == int(player)]\n",
    "        playerscore = playerstats.iloc[0]['PTS']\n",
    "        teamscore = teamscore + playerscore\n",
    "    dfLineup.at[index,'SUM_PTS'] = teamscore     \n",
    "    \n",
    "dfLineup['PTS_NET'] = dfLineup['PTS'] - dfLineup['SUM_PTS']"
   ]
  },
  {
   "cell_type": "code",
   "execution_count": 101,
   "metadata": {},
   "outputs": [],
   "source": [
    "dfLineup['CHEM'] =  dfLineup['AST_NET'] + dfLineup['FG_PCT_NET'] + dfLineup['FG3_PCT_NET'] + dfLineup['REB_NET'] - dfLineup['TOV_NET'] + dfLineup['STL_NET']"
   ]
  },
  {
   "cell_type": "code",
   "execution_count": 102,
   "metadata": {
    "scrolled": true
   },
   "outputs": [],
   "source": [
    "xvar = dfLineup[['AST_NET','FG_PCT_NET','FG3_PCT_NET','REB_NET','TOV_NET','STL_NET','PTS_NET','PIE']].copy()\n",
    "xvar1 = dfLineup[['CHEM', 'PIE']].copy()"
   ]
  },
  {
   "cell_type": "code",
   "execution_count": 104,
   "metadata": {},
   "outputs": [
    {
     "data": {
      "text/html": [
       "<table class=\"simpletable\">\n",
       "<caption>OLS Regression Results</caption>\n",
       "<tr>\n",
       "  <th>Dep. Variable:</th>       <td>PLUS_MINUS</td>    <th>  R-squared:         </th> <td>   0.292</td>\n",
       "</tr>\n",
       "<tr>\n",
       "  <th>Model:</th>                   <td>OLS</td>       <th>  Adj. R-squared:    </th> <td>   0.290</td>\n",
       "</tr>\n",
       "<tr>\n",
       "  <th>Method:</th>             <td>Least Squares</td>  <th>  F-statistic:       </th> <td>   153.9</td>\n",
       "</tr>\n",
       "<tr>\n",
       "  <th>Date:</th>             <td>Tue, 19 Feb 2019</td> <th>  Prob (F-statistic):</th> <td>1.04e-56</td>\n",
       "</tr>\n",
       "<tr>\n",
       "  <th>Time:</th>                 <td>19:50:07</td>     <th>  Log-Likelihood:    </th> <td> -2861.2</td>\n",
       "</tr>\n",
       "<tr>\n",
       "  <th>No. Observations:</th>      <td>   750</td>      <th>  AIC:               </th> <td>   5726.</td>\n",
       "</tr>\n",
       "<tr>\n",
       "  <th>Df Residuals:</th>          <td>   748</td>      <th>  BIC:               </th> <td>   5736.</td>\n",
       "</tr>\n",
       "<tr>\n",
       "  <th>Df Model:</th>              <td>     2</td>      <th>                     </th>     <td> </td>   \n",
       "</tr>\n",
       "<tr>\n",
       "  <th>Covariance Type:</th>      <td>nonrobust</td>    <th>                     </th>     <td> </td>   \n",
       "</tr>\n",
       "</table>\n",
       "<table class=\"simpletable\">\n",
       "<tr>\n",
       "    <td></td>      <th>coef</th>     <th>std err</th>      <th>t</th>      <th>P>|t|</th>  <th>[0.025</th>    <th>0.975]</th>  \n",
       "</tr>\n",
       "<tr>\n",
       "  <th>CHEM</th> <td>    0.6127</td> <td>    0.047</td> <td>   13.166</td> <td> 0.000</td> <td>    0.521</td> <td>    0.704</td>\n",
       "</tr>\n",
       "<tr>\n",
       "  <th>PIE</th>  <td>   13.7494</td> <td>    0.851</td> <td>   16.151</td> <td> 0.000</td> <td>   12.078</td> <td>   15.421</td>\n",
       "</tr>\n",
       "</table>\n",
       "<table class=\"simpletable\">\n",
       "<tr>\n",
       "  <th>Omnibus:</th>       <td> 5.041</td> <th>  Durbin-Watson:     </th> <td>   1.815</td>\n",
       "</tr>\n",
       "<tr>\n",
       "  <th>Prob(Omnibus):</th> <td> 0.080</td> <th>  Jarque-Bera (JB):  </th> <td>   5.337</td>\n",
       "</tr>\n",
       "<tr>\n",
       "  <th>Skew:</th>          <td> 0.128</td> <th>  Prob(JB):          </th> <td>  0.0694</td>\n",
       "</tr>\n",
       "<tr>\n",
       "  <th>Kurtosis:</th>      <td> 3.325</td> <th>  Cond. No.          </th> <td>    20.3</td>\n",
       "</tr>\n",
       "</table><br/><br/>Warnings:<br/>[1] Standard Errors assume that the covariance matrix of the errors is correctly specified."
      ],
      "text/plain": [
       "<class 'statsmodels.iolib.summary.Summary'>\n",
       "\"\"\"\n",
       "                            OLS Regression Results                            \n",
       "==============================================================================\n",
       "Dep. Variable:             PLUS_MINUS   R-squared:                       0.292\n",
       "Model:                            OLS   Adj. R-squared:                  0.290\n",
       "Method:                 Least Squares   F-statistic:                     153.9\n",
       "Date:                Tue, 19 Feb 2019   Prob (F-statistic):           1.04e-56\n",
       "Time:                        19:50:07   Log-Likelihood:                -2861.2\n",
       "No. Observations:                 750   AIC:                             5726.\n",
       "Df Residuals:                     748   BIC:                             5736.\n",
       "Df Model:                           2                                         \n",
       "Covariance Type:            nonrobust                                         \n",
       "==============================================================================\n",
       "                 coef    std err          t      P>|t|      [0.025      0.975]\n",
       "------------------------------------------------------------------------------\n",
       "CHEM           0.6127      0.047     13.166      0.000       0.521       0.704\n",
       "PIE           13.7494      0.851     16.151      0.000      12.078      15.421\n",
       "==============================================================================\n",
       "Omnibus:                        5.041   Durbin-Watson:                   1.815\n",
       "Prob(Omnibus):                  0.080   Jarque-Bera (JB):                5.337\n",
       "Skew:                           0.128   Prob(JB):                       0.0694\n",
       "Kurtosis:                       3.325   Cond. No.                         20.3\n",
       "==============================================================================\n",
       "\n",
       "Warnings:\n",
       "[1] Standard Errors assume that the covariance matrix of the errors is correctly specified.\n",
       "\"\"\""
      ]
     },
     "execution_count": 104,
     "metadata": {},
     "output_type": "execute_result"
    }
   ],
   "source": [
    "#model = sm.OLS(dfLineup['PLUS_MINUS'],xvar).fit()\n",
    "model = sm.OLS(dfLineup['PLUS_MINUS'],xvar1).fit()\n",
    "#predictions = model.predict(X) # make the predictions by the model\n",
    "\n",
    "# Print out the statistics\n",
    "model.summary()"
   ]
  },
  {
   "cell_type": "code",
   "execution_count": 51,
   "metadata": {},
   "outputs": [
    {
     "ename": "SyntaxError",
     "evalue": "invalid syntax (<ipython-input-51-717068f4a3bf>, line 1)",
     "output_type": "error",
     "traceback": [
      "\u001b[0;36m  File \u001b[0;32m\"<ipython-input-51-717068f4a3bf>\"\u001b[0;36m, line \u001b[0;32m1\u001b[0m\n\u001b[0;31m    FGM', 'FGA', 'FG_PCT', 'FG3M', 'FG3A', 'FG3_PCT', 'FTM', 'FTA', 'FT_PCT', 'OREB', 'DREB', 'REB', 'AST', 'TOV', 'STL', 'BLK', 'BLKA', 'PF', 'PFD', 'PTS', 'PLUS_MINUS',\u001b[0m\n\u001b[0m          ^\u001b[0m\n\u001b[0;31mSyntaxError\u001b[0m\u001b[0;31m:\u001b[0m invalid syntax\n"
     ]
    }
   ],
   "source": [
    "FGM', 'FGA', 'FG_PCT', 'FG3M', 'FG3A', 'FG3_PCT', 'FTM', 'FTA', 'FT_PCT', 'OREB', 'DREB', 'REB', 'AST', 'TOV', 'STL', 'BLK', 'BLKA', 'PF', 'PFD', 'PTS', 'PLUS_MINUS',\n",
    "\n",
    "\n"
   ]
  },
  {
   "cell_type": "code",
   "execution_count": 53,
   "metadata": {},
   "outputs": [
    {
     "name": "stdout",
     "output_type": "stream",
     "text": [
      "['GROUP_SET', 'GROUP_ID', 'GROUP_NAME', 'TEAM_ID', 'TEAM_ABBREVIATION', 'GP', 'W', 'L', 'W_PCT', 'MIN', 'E_OFF_RATING', 'OFF_RATING', 'E_DEF_RATING', 'DEF_RATING', 'E_NET_RATING', 'NET_RATING', 'AST_PCT', 'AST_TO', 'AST_RATIO', 'OREB_PCT', 'DREB_PCT', 'REB_PCT', 'TM_TOV_PCT', 'EFG_PCT', 'TS_PCT', 'E_PACE', 'PACE', 'PIE', 'GP_RANK', 'W_RANK', 'L_RANK', 'W_PCT_RANK', 'MIN_RANK', 'OFF_RATING_RANK', 'DEF_RATING_RANK', 'NET_RATING_RANK', 'AST_PCT_RANK', 'AST_TO_RANK', 'AST_RATIO_RANK', 'OREB_PCT_RANK', 'DREB_PCT_RANK', 'REB_PCT_RANK', 'TM_TOV_PCT_RANK', 'EFG_PCT_RANK', 'TS_PCT_RANK', 'PACE_RANK', 'PIE_RANK']\n",
      "['GROUP_SET', 'GROUP_ID', 'GROUP_NAME', 'TEAM_ID', 'TEAM_ABBREVIATION', 'GP', 'W', 'L', 'W_PCT', 'MIN', 'FGM', 'FGA', 'FG_PCT', 'FG3M', 'FG3A', 'FG3_PCT', 'FTM', 'FTA', 'FT_PCT', 'OREB', 'DREB', 'REB', 'AST', 'TOV', 'STL', 'BLK', 'BLKA', 'PF', 'PFD', 'PTS', 'PLUS_MINUS', 'GP_RANK', 'W_RANK', 'L_RANK', 'W_PCT_RANK', 'MIN_RANK', 'FGM_RANK', 'FGA_RANK', 'FG_PCT_RANK', 'FG3M_RANK', 'FG3A_RANK', 'FG3_PCT_RANK', 'FTM_RANK', 'FTA_RANK', 'FT_PCT_RANK', 'OREB_RANK', 'DREB_RANK', 'REB_RANK', 'AST_RANK', 'TOV_RANK', 'STL_RANK', 'BLK_RANK', 'BLKA_RANK', 'PF_RANK', 'PFD_RANK', 'PTS_RANK', 'PLUS_MINUS_RANK']\n",
      "['GROUP_SET', 'GROUP_ID', 'GROUP_NAME', 'TEAM_ID', 'TEAM_ABBREVIATION', 'GP', 'W', 'L', 'W_PCT', 'MIN', 'PTS_OFF_TOV', 'PTS_2ND_CHANCE', 'PTS_FB', 'PTS_PAINT', 'OPP_PTS_OFF_TOV', 'OPP_PTS_2ND_CHANCE', 'OPP_PTS_FB', 'OPP_PTS_PAINT', 'GP_RANK', 'W_RANK', 'L_RANK', 'W_PCT_RANK', 'MIN_RANK', 'PTS_OFF_TOV_RANK', 'PTS_2ND_CHANCE_RANK', 'PTS_FB_RANK', 'PTS_PAINT_RANK', 'OPP_PTS_OFF_TOV_RANK', 'OPP_PTS_2ND_CHANCE_RANK', 'OPP_PTS_FB_RANK', 'OPP_PTS_PAINT_RANK']\n",
      "['GROUP_SET', 'GROUP_ID', 'GROUP_NAME', 'TEAM_ID', 'TEAM_ABBREVIATION', 'GP', 'W', 'L', 'W_PCT', 'MIN', 'EFG_PCT', 'FTA_RATE', 'TM_TOV_PCT', 'OREB_PCT', 'OPP_EFG_PCT', 'OPP_FTA_RATE', 'OPP_TOV_PCT', 'OPP_OREB_PCT', 'GP_RANK', 'W_RANK', 'L_RANK', 'W_PCT_RANK', 'MIN_RANK', 'EFG_PCT_RANK', 'FTA_RATE_RANK', 'TM_TOV_PCT_RANK', 'OREB_PCT_RANK', 'OPP_EFG_PCT_RANK', 'OPP_FTA_RATE_RANK', 'OPP_TOV_PCT_RANK', 'OPP_OREB_PCT_RANK']\n",
      "['GROUP_SET', 'GROUP_ID', 'GROUP_NAME', 'TEAM_ID', 'TEAM_ABBREVIATION', 'GP', 'W', 'L', 'W_PCT', 'MIN', 'PCT_FGA_2PT', 'PCT_FGA_3PT', 'PCT_PTS_2PT', 'PCT_PTS_2PT_MR', 'PCT_PTS_3PT', 'PCT_PTS_FB', 'PCT_PTS_FT', 'PCT_PTS_OFF_TOV', 'PCT_PTS_PAINT', 'PCT_AST_2PM', 'PCT_UAST_2PM', 'PCT_AST_3PM', 'PCT_UAST_3PM', 'PCT_AST_FGM', 'PCT_UAST_FGM', 'GP_RANK', 'W_RANK', 'L_RANK', 'W_PCT_RANK', 'MIN_RANK', 'PCT_FGA_2PT_RANK', 'PCT_FGA_3PT_RANK', 'PCT_PTS_2PT_RANK', 'PCT_PTS_2PT_MR_RANK', 'PCT_PTS_3PT_RANK', 'PCT_PTS_FB_RANK', 'PCT_PTS_FT_RANK', 'PCT_PTS_OFF_TOV_RANK', 'PCT_PTS_PAINT_RANK', 'PCT_AST_2PM_RANK', 'PCT_UAST_2PM_RANK', 'PCT_AST_3PM_RANK', 'PCT_UAST_3PM_RANK', 'PCT_AST_FGM_RANK', 'PCT_UAST_FGM_RANK']\n",
      "['GROUP_SET', 'GROUP_ID', 'GROUP_NAME', 'TEAM_ID', 'TEAM_ABBREVIATION', 'GP', 'W', 'L', 'W_PCT', 'MIN', 'OPP_FGM', 'OPP_FGA', 'OPP_FG_PCT', 'OPP_FG3M', 'OPP_FG3A', 'OPP_FG3_PCT', 'OPP_FTM', 'OPP_FTA', 'OPP_FT_PCT', 'OPP_OREB', 'OPP_DREB', 'OPP_REB', 'OPP_AST', 'OPP_TOV', 'OPP_STL', 'OPP_BLK', 'OPP_BLKA', 'OPP_PF', 'OPP_PFD', 'OPP_PTS', 'PLUS_MINUS', 'GP_RANK', 'W_RANK', 'L_RANK', 'W_PCT_RANK', 'MIN_RANK', 'OPP_FGM_RANK', 'OPP_FGA_RANK', 'OPP_FG_PCT_RANK', 'OPP_FG3M_RANK', 'OPP_FG3A_RANK', 'OPP_FG3_PCT_RANK', 'OPP_FTM_RANK', 'OPP_FTA_RANK', 'OPP_FT_PCT_RANK', 'OPP_OREB_RANK', 'OPP_DREB_RANK', 'OPP_REB_RANK', 'OPP_AST_RANK', 'OPP_TOV_RANK', 'OPP_STL_RANK', 'OPP_BLK_RANK', 'OPP_BLKA_RANK', 'OPP_PF_RANK', 'OPP_PFD_RANK', 'OPP_PTS_RANK', 'PLUS_MINUS_RANK']\n"
     ]
    }
   ],
   "source": [
    "from nba_api.stats.endpoints import leaguedashlineups\n",
    "\n",
    "one = leaguedashlineups.LeagueDashLineups(measure_type_detailed_defense = 'Advanced', season = '2017-18', per_mode_detailed = 'Per100Possessions').get_data_frames()[0]\n",
    "print(list(one.columns))\n",
    "\n",
    "two = leaguedashlineups.LeagueDashLineups(measure_type_detailed_defense = 'Base', season = '2017-18',per_mode_detailed = 'Per100Possessions').get_data_frames()[0]\n",
    "print(list(two.columns))\n",
    "\n",
    "three = leaguedashlineups.LeagueDashLineups(measure_type_detailed_defense = 'Misc',season = '2017-18',per_mode_detailed = 'Per100Possessions').get_data_frames()[0]\n",
    "print(list(three.columns))\n",
    "\n",
    "time.sleep(3)\n",
    "\n",
    "four = leaguedashlineups.LeagueDashLineups(measure_type_detailed_defense = 'Four Factors',season = '2017-18',per_mode_detailed = 'Per100Possessions').get_data_frames()[0]\n",
    "print(list(four.columns))\n",
    "five = leaguedashlineups.LeagueDashLineups(measure_type_detailed_defense = 'Scoring',season = '2017-18',per_mode_detailed = 'Per100Possessions').get_data_frames()[0]\n",
    "print(list(five.columns))\n",
    "six = leaguedashlineups.LeagueDashLineups(measure_type_detailed_defense = 'Opponent',season = '2017-18',per_mode_detailed = 'Per100Possessions').get_data_frames()[0]\n",
    "print(list(six.columns))\n",
    "\n",
    "#seven = leaguedashlineups.LeagueDashLineups(measure_type_detailed_defense = 'Usage',season = '2017-18',per_mode_detailed = 'Per100Possessions').get_data_frames()[0]\n",
    "#print(list(seven.columns))\n",
    "#eight = leaguedashlineups.LeagueDashLineups(measure_type_detailed_defense = 'Defense',season = '2017-18',per_mode_detailed = 'Per100Possessions').get_data_frames()[0]\n",
    "#print(list(eight.columns))"
   ]
  },
  {
   "cell_type": "code",
   "execution_count": null,
   "metadata": {},
   "outputs": [],
   "source": []
  }
 ],
 "metadata": {
  "kernelspec": {
   "display_name": "Python 3",
   "language": "python",
   "name": "python3"
  },
  "language_info": {
   "codemirror_mode": {
    "name": "ipython",
    "version": 3
   },
   "file_extension": ".py",
   "mimetype": "text/x-python",
   "name": "python",
   "nbconvert_exporter": "python",
   "pygments_lexer": "ipython3",
   "version": "3.6.8"
  }
 },
 "nbformat": 4,
 "nbformat_minor": 2
}
